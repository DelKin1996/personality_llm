{
  "cells": [
    {
      "cell_type": "code",
      "execution_count": 1,
      "id": "aEHje5LEHljp",
      "metadata": {
        "id": "aEHje5LEHljp"
      },
      "outputs": [],
      "source": [
        "!pip install -U -q bitsandbytes transformers trl accelerate peft"
      ]
    },
    {
      "cell_type": "code",
      "execution_count": 2,
      "id": "V-oTkzQQIWz9",
      "metadata": {
        "colab": {
          "base_uri": "https://localhost:8080/"
        },
        "id": "V-oTkzQQIWz9",
        "outputId": "6e3ede7a-5e09-42dd-fe8b-177b3670c5f0"
      },
      "outputs": [
        {
          "output_type": "stream",
          "name": "stdout",
          "text": [
            "Drive already mounted at /content/drive; to attempt to forcibly remount, call drive.mount(\"/content/drive\", force_remount=True).\n"
          ]
        }
      ],
      "source": [
        "from google.colab import drive\n",
        "drive.mount('/content/drive')"
      ]
    },
    {
      "cell_type": "code",
      "execution_count": 3,
      "id": "8031636e-a5b6-4b46-afee-fdb983e24620",
      "metadata": {
        "id": "8031636e-a5b6-4b46-afee-fdb983e24620"
      },
      "outputs": [],
      "source": [
        "import json, os, io\n",
        "import torch\n",
        "from datasets import Dataset, load_dataset, Features, Value, DatasetDict\n",
        "from transformers import AutoTokenizer, AutoModelForCausalLM, BitsAndBytesConfig, pipeline, TrainingArguments\n",
        "from peft import LoraConfig, PeftModel\n",
        "from trl import SFTTrainer, DPOTrainer, DPOConfig\n",
        "from tqdm import tqdm"
      ]
    },
    {
      "cell_type": "code",
      "execution_count": 4,
      "id": "055a8884-c3b0-4a76-b529-cbebbd4e6851",
      "metadata": {
        "id": "055a8884-c3b0-4a76-b529-cbebbd4e6851"
      },
      "outputs": [],
      "source": [
        "access_token = \"hf_...\""
      ]
    },
    {
      "cell_type": "markdown",
      "id": "311b0577-645d-46e9-a080-e9eb3ac07391",
      "metadata": {
        "id": "311b0577-645d-46e9-a080-e9eb3ac07391"
      },
      "source": [
        "## load dataset"
      ]
    },
    {
      "cell_type": "code",
      "execution_count": 5,
      "id": "1oftlzPQItCw",
      "metadata": {
        "id": "1oftlzPQItCw"
      },
      "outputs": [],
      "source": [
        "ROOT_DIR = \"/content/drive/MyDrive/Colab Notebooks/llm_data\""
      ]
    },
    {
      "cell_type": "code",
      "execution_count": 6,
      "id": "d730472c-8229-439d-915a-7682a1299af4",
      "metadata": {
        "id": "d730472c-8229-439d-915a-7682a1299af4"
      },
      "outputs": [],
      "source": [
        "datapath = os.path.join(ROOT_DIR, \"data\")\n",
        "\n",
        "def get_datafile(filename):\n",
        "    with open(os.path.join(datapath, filename), \"rb\") as f:\n",
        "        dataset = json.load(f)\n",
        "    return dataset\n",
        "\n",
        "f_data = get_datafile(\"feeling.txt\")\n",
        "t_data = get_datafile(\"thinking.txt\")"
      ]
    },
    {
      "cell_type": "code",
      "execution_count": 7,
      "id": "aea46a84-00b8-4bcb-a291-dee1133f81c5",
      "metadata": {
        "colab": {
          "base_uri": "https://localhost:8080/"
        },
        "id": "aea46a84-00b8-4bcb-a291-dee1133f81c5",
        "outputId": "6fa12418-a5e4-4db2-d16f-038884e3a686"
      },
      "outputs": [
        {
          "output_type": "execute_result",
          "data": {
            "text/plain": [
              "True"
            ]
          },
          "metadata": {},
          "execution_count": 7
        }
      ],
      "source": [
        "len(f_data) == len(t_data)"
      ]
    },
    {
      "cell_type": "code",
      "execution_count": 8,
      "id": "be23dbef-5043-48a6-90e4-4711c2d89b74",
      "metadata": {
        "id": "be23dbef-5043-48a6-90e4-4711c2d89b74"
      },
      "outputs": [],
      "source": [
        "def gen_dataset(data_type, chosen_data, rejected_data):\n",
        "    temp_dataset = []\n",
        "    for chosen, rejected in zip(chosen_data, rejected_data):\n",
        "        temp_data = {}\n",
        "        temp_data['prompt'] = chosen['instruction']\n",
        "        temp_data['chosen'] = chosen['output']\n",
        "        temp_data['rejected'] = rejected['output']\n",
        "        temp_data['data_type'] = data_type\n",
        "        temp_dataset.append(temp_data)\n",
        "    return temp_dataset"
      ]
    },
    {
      "cell_type": "code",
      "execution_count": 9,
      "id": "2c06d023-5568-47e4-8fc9-c66a41ac2fc9",
      "metadata": {
        "id": "2c06d023-5568-47e4-8fc9-c66a41ac2fc9"
      },
      "outputs": [],
      "source": [
        "dataset = gen_dataset(\"F\", f_data, t_data) + gen_dataset(\"T\", t_data, f_data)"
      ]
    },
    {
      "cell_type": "code",
      "execution_count": 10,
      "id": "6d0a4b65-8f44-4b0b-8601-36039a5f19b0",
      "metadata": {
        "id": "6d0a4b65-8f44-4b0b-8601-36039a5f19b0"
      },
      "outputs": [],
      "source": [
        "def generate_prompt(example):\n",
        "    temp_dict = {}\n",
        "    system_prompt = \"당신은 논리적, 분석적 근거를 바탕으로 판단하여 친구처럼 답변해야 합니다.\" if example['data_type']==\"T\" else \\\n",
        "                    \"당신은 개인적, 사회적 가치를 바탕으로 판단하여 친구처럼 답변해야 합니다.\" if example['data_type']==\"F\" else \" \"\n",
        "\n",
        "    temp_dict['prompt'] = f\"<start_of_turn>system\\n{system_prompt}<end_of_turn><start_of_turn>user\\n{example['prompt']}<end_of_turn>\\n<start_of_turn>model\\n\"\n",
        "    temp_dict['chosen'] = f\"{example['chosen']}<end_of_turn>\"\n",
        "    temp_dict['rejected'] = f\"{example['rejected']}<end_of_turn>\"\n",
        "\n",
        "    return temp_dict"
      ]
    },
    {
      "cell_type": "code",
      "execution_count": 11,
      "id": "4002629b-8315-43fb-9c00-1ec6791cbaa6",
      "metadata": {
        "id": "4002629b-8315-43fb-9c00-1ec6791cbaa6"
      },
      "outputs": [],
      "source": [
        "features = Features({\n",
        "    \"prompt\": Value(\"string\"),\n",
        "    \"rejected\": Value(\"string\"),\n",
        "    \"chosen\": Value(\"string\"),\n",
        "    \"data_type\": Value(\"string\")\n",
        "})"
      ]
    },
    {
      "cell_type": "code",
      "execution_count": 12,
      "id": "1beced5d-acbc-4556-80d8-4a575c819960",
      "metadata": {
        "colab": {
          "base_uri": "https://localhost:8080/",
          "height": 49,
          "referenced_widgets": [
            "7c74e9a85ba74219b88a50d051d3ca7d",
            "f5e944683042416fb22d5c9c7de94ba5",
            "08a40d06cc7746f9ab1d79e8a5400f5c",
            "ea189b840ded468f8629a76fbfb36f95",
            "2c9056c3cd2143c0adf81916dc9cd264",
            "072e74b96ed1451c84a3108c8405f8e2",
            "2cf839aa3aac4ac09ac9711f1f9f487d",
            "492a13f5818341d586aec61fb3836fa9",
            "d8c5039470814a88a555f4ea255bbd54",
            "efbdb676127442bd84aa7ea817eb50c4",
            "0c7f483605294e8f845b6538164d7a6d"
          ]
        },
        "id": "1beced5d-acbc-4556-80d8-4a575c819960",
        "outputId": "60fecf6d-8d74-4005-d31d-9e234f33025f"
      },
      "outputs": [
        {
          "output_type": "display_data",
          "data": {
            "text/plain": [
              "Map:   0%|          | 0/24318 [00:00<?, ? examples/s]"
            ],
            "application/vnd.jupyter.widget-view+json": {
              "version_major": 2,
              "version_minor": 0,
              "model_id": "7c74e9a85ba74219b88a50d051d3ca7d"
            }
          },
          "metadata": {}
        }
      ],
      "source": [
        "dpo_data = DatasetDict({\"train\": Dataset.from_list(dataset, features=features)}).map(generate_prompt)"
      ]
    },
    {
      "cell_type": "code",
      "execution_count": 13,
      "id": "19a4a272-1d1d-46b3-90e5-319f950d363e",
      "metadata": {
        "id": "19a4a272-1d1d-46b3-90e5-319f950d363e"
      },
      "outputs": [],
      "source": [
        "dpo_dataset = dpo_data['train'].train_test_split(test_size=0.1)"
      ]
    },
    {
      "cell_type": "markdown",
      "id": "4dcfaf9a-8897-43cf-948c-339ed564f156",
      "metadata": {
        "id": "4dcfaf9a-8897-43cf-948c-339ed564f156"
      },
      "source": [
        "## train"
      ]
    },
    {
      "cell_type": "markdown",
      "id": "2ZanYuEEDc7J",
      "metadata": {
        "id": "2ZanYuEEDc7J"
      },
      "source": [
        "https://huggingface.co/docs/trl/dpo_trainer#using-option-3---load-the-adapter-twice"
      ]
    },
    {
      "cell_type": "code",
      "execution_count": 14,
      "id": "fef04f90-be80-415c-8f06-17f236bfc495",
      "metadata": {
        "id": "fef04f90-be80-415c-8f06-17f236bfc495"
      },
      "outputs": [],
      "source": [
        "# qlora setting\n",
        "lora_config = LoraConfig(\n",
        "    r=16,\n",
        "    lora_alpha=16,\n",
        "    lora_dropout=0,\n",
        "    bias=\"none\",\n",
        "    target_modules=[\"q_proj\", \"o_proj\", \"k_proj\", \"v_proj\", \"gate_proj\", \"up_proj\", \"down_proj\"],\n",
        "    task_type=\"CAUSAL_LM\",\n",
        ")\n",
        "\n",
        "bnb_config = BitsAndBytesConfig(\n",
        "    load_in_4bit=True,\n",
        "    llm_int8_threshold=6.0,\n",
        "    llm_int8_has_fp16_weight=False,\n",
        "    bnb_4bit_quant_type=\"nf4\",\n",
        "    bnb_4bit_use_double_quant=True, # 이중양자화\n",
        "    bnb_4bit_compute_dtype=torch.float16\n",
        ")"
      ]
    },
    {
      "cell_type": "code",
      "execution_count": 15,
      "id": "ju9O4i_oJNw_",
      "metadata": {
        "colab": {
          "base_uri": "https://localhost:8080/",
          "height": 49,
          "referenced_widgets": [
            "bdc5ab34fd8347bc8ce07f13bd2141da",
            "32437793d75b46a6a0a1e0c6f3800d3a",
            "034db42d8c2549d3ab9ee9e1f833b53a",
            "b1c264110e584d0899d95f32aae43189",
            "4fcc9e26000b401789fc3acd6d30bc11",
            "08eabf63b6a14fc2ace011523bd9b9d2",
            "cc18ec3cd16449169650d3d8bb493230",
            "12b910f26d3f48f388264c96b348cb4e",
            "05f25a0a9e3e49ddbee118c6761268ce",
            "56f674d46eec4bc28bd94c43230819e4",
            "886611259ef54a02aa779c11131e5ff9"
          ]
        },
        "id": "ju9O4i_oJNw_",
        "outputId": "9fdaed69-404d-44c4-a609-d2cfe1276576"
      },
      "outputs": [
        {
          "output_type": "display_data",
          "data": {
            "text/plain": [
              "Loading checkpoint shards:   0%|          | 0/2 [00:00<?, ?it/s]"
            ],
            "application/vnd.jupyter.widget-view+json": {
              "version_major": 2,
              "version_minor": 0,
              "model_id": "bdc5ab34fd8347bc8ce07f13bd2141da"
            }
          },
          "metadata": {}
        }
      ],
      "source": [
        "BASE_MODEL = \"google/gemma-2-2b-it\"\n",
        "PEFT_MODEL = os.path.join(ROOT_DIR, \"./model/peft_model\")\n",
        "MERGED_MODEL = os.path.join(ROOT_DIR, \"./model/gemma-2-2b-it-sns\")\n",
        "\n",
        "# 모델과 토크나이저 로드\n",
        "model = AutoModelForCausalLM.from_pretrained(MERGED_MODEL,\n",
        "                                             device_map=\"auto\",\n",
        "                                             quantization_config=bnb_config,\n",
        "                                             attn_implementation='eager',\n",
        "                                             token=access_token)\n",
        "# model.config.use_cache = False\n",
        "tokenizer = AutoTokenizer.from_pretrained(BASE_MODEL, token=access_token)\n",
        "tokenizer.pad_token = tokenizer.eos_token\n",
        "tokenizer.add_eos_token = True\n",
        "tokenizer.padding_side = 'right'\n",
        "\n",
        "# model = PeftModel.from_pretrained(model, PEFT_MODEL, is_trainable=True, peft_config=lora_config, adapter_name=\"train_model\")\n",
        "# model.load_adapter(PEFT_MODEL, is_trainable=True, peft_config=lora_config, adapter_name=\"reference_model\")"
      ]
    },
    {
      "cell_type": "code",
      "execution_count": 16,
      "id": "J7gtFNWaJKJ7",
      "metadata": {
        "id": "J7gtFNWaJKJ7"
      },
      "outputs": [],
      "source": [
        "#### COMMENT IN TO RECALCULATE MAX LENGTHS ####\n",
        "from numpy import percentile\n",
        "train_dataset = dpo_dataset['train']\n",
        "eval_dataset = dpo_dataset['test']\n",
        "\n",
        "# lets find the p95 length of the prompt\n",
        "prompt_length = int(percentile([len(tokenizer(x)[\"input_ids\"]) for x in train_dataset[\"prompt\"]], 95))\n",
        "max_seq_length_chosen = int(percentile([len(tokenizer(x[\"prompt\"] + x[\"chosen\"])[\"input_ids\"]) for x in train_dataset], 95))\n",
        "max_seq_length_rejected = int(percentile([len(tokenizer(x[\"prompt\"] + x[\"rejected\"])[\"input_ids\"]) for x in train_dataset], 95))\n",
        "max_seq_length = max(max_seq_length_chosen, max_seq_length_rejected)\n",
        "\n",
        "# filter datasets to remove samples that are too long\n",
        "train_dataset = train_dataset.filter(lambda x: len(tokenizer(x[\"prompt\"] + x[\"chosen\"])[\"input_ids\"]) <= max_seq_length)\n",
        "eval_dataset = eval_dataset.filter(lambda x: len(tokenizer(x[\"prompt\"] + x[\"chosen\"])[\"input_ids\"]) <= max_seq_length)\n",
        "print(f\"len(train_dataset): {len(train_dataset)}\")\n",
        "print(f\"len(eval_dataset): {len(eval_dataset)}\")\n",
        "\n",
        "# Up the lengths to next multiple of 2, why 2? Don't know\n",
        "prompt_length = ((prompt_length + 1) // 2) * 2\n",
        "max_seq_length = ((max_seq_length + 1) // 2) * 2\n",
        "print(f\"p95 prompt length: {prompt_length}\")\n",
        "print(f\"p95 prompt + chosen length: {max_seq_length}\")\n",
        "\n",
        "## len(train_dataset): 20810\n",
        "## len(eval_dataset): 2300\n",
        "## p95 prompt length: 92\n",
        "## p95 prompt + chosen length: 362\n",
        "\n",
        "prompt_length = 128\n",
        "max_seq_length = 512"
      ]
    },
    {
      "cell_type": "code",
      "execution_count": 17,
      "id": "cs-MIXHFF4l2",
      "metadata": {
        "colab": {
          "base_uri": "https://localhost:8080/",
          "height": 138,
          "referenced_widgets": [
            "b76ff31d8c6e443bb356a949a6d108ab",
            "1f3380c976634cec945de02206506797",
            "bc7f1834c1d7404ebbc24faa120cae6d",
            "b913482f37414665b4e37d24007de290",
            "e7f25a561083495a860370023ef3d31c",
            "672ae33cbe334a778f3d924e7ae4b341",
            "574a5f30a4f64bb78d6d20829a95644c",
            "8826b2193bb8408d981a5441990270ab",
            "5b66309d740a40b580b58a7ce997a9b2",
            "ea65985ef34544018a6428ada53b61d5",
            "3c56b59b81fc4f01b228d0cbed6fc5b7",
            "8fe208d7002943cf8c7f39a10e127a74",
            "a589b355c7de4cb7b5277c97945e3ad9",
            "3b9a0bef1d024acc98aa04ef34235ca2",
            "28565d9ee25541f7a9068a40435c14ca",
            "d3eb9942693a42778b7c8c2e6df65928",
            "7f1a86dd84244a48b07fed7213590ba7",
            "9160c1cbe73e425b89dd51b358ad8eb3",
            "fe5e5ac3c0b7445f8ee9c7807a96c3d3",
            "1f5a414d9f8c48609b3ab171ee0f0da6",
            "d45620fbd80447349dbc16d14f782859",
            "5396b07cee2742a6926ee0a769546186"
          ]
        },
        "id": "cs-MIXHFF4l2",
        "outputId": "4327d99f-127b-444d-9d8f-a3c9989c78c8"
      },
      "outputs": [
        {
          "output_type": "stream",
          "name": "stderr",
          "text": [
            "/usr/local/lib/python3.10/dist-packages/trl/trainer/dpo_trainer.py:719: UserWarning: When using DPODataCollatorWithPadding, you should set `remove_unused_columns=False` in your TrainingArguments we have set it for you, but you should do it yourself in the future.\n",
            "  warnings.warn(\n"
          ]
        },
        {
          "output_type": "display_data",
          "data": {
            "text/plain": [
              "Tokenizing train dataset:   0%|          | 0/21886 [00:00<?, ? examples/s]"
            ],
            "application/vnd.jupyter.widget-view+json": {
              "version_major": 2,
              "version_minor": 0,
              "model_id": "b76ff31d8c6e443bb356a949a6d108ab"
            }
          },
          "metadata": {}
        },
        {
          "output_type": "display_data",
          "data": {
            "text/plain": [
              "Tokenizing eval dataset:   0%|          | 0/2432 [00:00<?, ? examples/s]"
            ],
            "application/vnd.jupyter.widget-view+json": {
              "version_major": 2,
              "version_minor": 0,
              "model_id": "8fe208d7002943cf8c7f39a10e127a74"
            }
          },
          "metadata": {}
        }
      ],
      "source": [
        "training_args = DPOConfig(\n",
        "    # model_adapter_name=\"train_model\",\n",
        "    # ref_adapter_name=\"reference_model\",\n",
        "\n",
        "    output_dir=\"./outputs/dpo\",\n",
        "    eval_strategy=\"steps\",\n",
        "    do_eval=True,\n",
        "    # max_steps=3000,\n",
        "    num_train_epochs=1,\n",
        "    optim=\"paged_adamw_32bit\",\n",
        "    per_device_train_batch_size=2,\n",
        "    gradient_accumulation_steps=1,\n",
        "    per_device_eval_batch_size=1,\n",
        "    logging_steps=100,\n",
        "    learning_rate=5e-7,\n",
        "    eval_steps=1000,\n",
        "    save_steps=1000,\n",
        "    warmup_ratio=0.1,\n",
        "    lr_scheduler_type=\"cosine\",\n",
        "\n",
        "    max_prompt_length=prompt_length,\n",
        "    max_length=max_seq_length,\n",
        "    save_total_limit=2,\n",
        "    bf16=True,\n",
        "    beta=0.5,\n",
        ")\n",
        "\n",
        "trainer = DPOTrainer(\n",
        "    model=model,\n",
        "    ref_model=None,\n",
        "    args=training_args,\n",
        "    peft_config=lora_config,\n",
        "    train_dataset=dpo_dataset['train'],\n",
        "    eval_dataset=dpo_dataset['test'],\n",
        "    tokenizer=tokenizer,\n",
        ")"
      ]
    },
    {
      "cell_type": "code",
      "execution_count": 18,
      "id": "efa72830-3968-48bb-b4e5-2ae413b58170",
      "metadata": {
        "colab": {
          "base_uri": "https://localhost:8080/",
          "height": 444
        },
        "id": "efa72830-3968-48bb-b4e5-2ae413b58170",
        "outputId": "12915e43-474d-40e9-ce3e-ca76c6e026cb"
      },
      "outputs": [
        {
          "output_type": "stream",
          "name": "stderr",
          "text": [
            "Could not estimate the number of tokens of the input, floating-point operations will not be computed\n"
          ]
        },
        {
          "output_type": "display_data",
          "data": {
            "text/plain": [
              "<IPython.core.display.HTML object>"
            ],
            "text/html": [
              "\n",
              "    <div>\n",
              "      \n",
              "      <progress value='10943' max='10943' style='width:300px; height:20px; vertical-align: middle;'></progress>\n",
              "      [10943/10943 3:55:21, Epoch 1/1]\n",
              "    </div>\n",
              "    <table border=\"1\" class=\"dataframe\">\n",
              "  <thead>\n",
              " <tr style=\"text-align: left;\">\n",
              "      <th>Step</th>\n",
              "      <th>Training Loss</th>\n",
              "      <th>Validation Loss</th>\n",
              "      <th>Rewards/chosen</th>\n",
              "      <th>Rewards/rejected</th>\n",
              "      <th>Rewards/accuracies</th>\n",
              "      <th>Rewards/margins</th>\n",
              "      <th>Logps/rejected</th>\n",
              "      <th>Logps/chosen</th>\n",
              "      <th>Logits/rejected</th>\n",
              "      <th>Logits/chosen</th>\n",
              "    </tr>\n",
              "  </thead>\n",
              "  <tbody>\n",
              "    <tr>\n",
              "      <td>1000</td>\n",
              "      <td>0.704000</td>\n",
              "      <td>0.709064</td>\n",
              "      <td>-0.001387</td>\n",
              "      <td>0.001326</td>\n",
              "      <td>0.483553</td>\n",
              "      <td>-0.002712</td>\n",
              "      <td>-248.902145</td>\n",
              "      <td>-247.701630</td>\n",
              "      <td>-3.693312</td>\n",
              "      <td>-3.703695</td>\n",
              "    </tr>\n",
              "    <tr>\n",
              "      <td>2000</td>\n",
              "      <td>0.681500</td>\n",
              "      <td>0.693430</td>\n",
              "      <td>0.045971</td>\n",
              "      <td>0.016390</td>\n",
              "      <td>0.512336</td>\n",
              "      <td>0.029581</td>\n",
              "      <td>-248.872025</td>\n",
              "      <td>-247.606964</td>\n",
              "      <td>-3.692079</td>\n",
              "      <td>-3.703415</td>\n",
              "    </tr>\n",
              "    <tr>\n",
              "      <td>3000</td>\n",
              "      <td>0.634600</td>\n",
              "      <td>0.637475</td>\n",
              "      <td>0.151551</td>\n",
              "      <td>-0.008919</td>\n",
              "      <td>0.626234</td>\n",
              "      <td>0.160469</td>\n",
              "      <td>-248.922653</td>\n",
              "      <td>-247.395767</td>\n",
              "      <td>-3.683365</td>\n",
              "      <td>-3.698145</td>\n",
              "    </tr>\n",
              "    <tr>\n",
              "      <td>4000</td>\n",
              "      <td>0.536700</td>\n",
              "      <td>0.528613</td>\n",
              "      <td>0.505690</td>\n",
              "      <td>-0.007924</td>\n",
              "      <td>0.737664</td>\n",
              "      <td>0.513615</td>\n",
              "      <td>-248.920639</td>\n",
              "      <td>-246.687500</td>\n",
              "      <td>-3.660987</td>\n",
              "      <td>-3.685528</td>\n",
              "    </tr>\n",
              "    <tr>\n",
              "      <td>5000</td>\n",
              "      <td>0.389200</td>\n",
              "      <td>0.414985</td>\n",
              "      <td>0.822020</td>\n",
              "      <td>-0.399821</td>\n",
              "      <td>0.794408</td>\n",
              "      <td>1.221841</td>\n",
              "      <td>-249.704437</td>\n",
              "      <td>-246.054840</td>\n",
              "      <td>-3.627799</td>\n",
              "      <td>-3.671474</td>\n",
              "    </tr>\n",
              "    <tr>\n",
              "      <td>6000</td>\n",
              "      <td>0.337900</td>\n",
              "      <td>0.342799</td>\n",
              "      <td>0.970378</td>\n",
              "      <td>-1.313994</td>\n",
              "      <td>0.817023</td>\n",
              "      <td>2.284372</td>\n",
              "      <td>-251.532791</td>\n",
              "      <td>-245.758118</td>\n",
              "      <td>-3.588045</td>\n",
              "      <td>-3.658058</td>\n",
              "    </tr>\n",
              "    <tr>\n",
              "      <td>7000</td>\n",
              "      <td>0.271900</td>\n",
              "      <td>0.310501</td>\n",
              "      <td>0.958214</td>\n",
              "      <td>-2.407846</td>\n",
              "      <td>0.829359</td>\n",
              "      <td>3.366060</td>\n",
              "      <td>-253.720474</td>\n",
              "      <td>-245.782425</td>\n",
              "      <td>-3.548939</td>\n",
              "      <td>-3.643504</td>\n",
              "    </tr>\n",
              "    <tr>\n",
              "      <td>8000</td>\n",
              "      <td>0.370200</td>\n",
              "      <td>0.298732</td>\n",
              "      <td>0.774540</td>\n",
              "      <td>-3.327103</td>\n",
              "      <td>0.833470</td>\n",
              "      <td>4.101643</td>\n",
              "      <td>-255.559006</td>\n",
              "      <td>-246.149796</td>\n",
              "      <td>-3.525877</td>\n",
              "      <td>-3.636899</td>\n",
              "    </tr>\n",
              "    <tr>\n",
              "      <td>9000</td>\n",
              "      <td>0.322700</td>\n",
              "      <td>0.297519</td>\n",
              "      <td>0.649119</td>\n",
              "      <td>-3.853889</td>\n",
              "      <td>0.834704</td>\n",
              "      <td>4.503008</td>\n",
              "      <td>-256.612579</td>\n",
              "      <td>-246.400650</td>\n",
              "      <td>-3.514080</td>\n",
              "      <td>-3.633948</td>\n",
              "    </tr>\n",
              "    <tr>\n",
              "      <td>10000</td>\n",
              "      <td>0.288700</td>\n",
              "      <td>0.294125</td>\n",
              "      <td>0.615406</td>\n",
              "      <td>-4.047520</td>\n",
              "      <td>0.837582</td>\n",
              "      <td>4.662925</td>\n",
              "      <td>-256.999847</td>\n",
              "      <td>-246.468063</td>\n",
              "      <td>-3.509503</td>\n",
              "      <td>-3.632587</td>\n",
              "    </tr>\n",
              "  </tbody>\n",
              "</table><p>"
            ]
          },
          "metadata": {}
        },
        {
          "output_type": "execute_result",
          "data": {
            "text/plain": [
              "TrainOutput(global_step=10943, training_loss=0.4538646296414272, metrics={'train_runtime': 14123.0577, 'train_samples_per_second': 1.55, 'train_steps_per_second': 0.775, 'total_flos': 0.0, 'train_loss': 0.4538646296414272, 'epoch': 1.0})"
            ]
          },
          "metadata": {},
          "execution_count": 18
        }
      ],
      "source": [
        "trainer.train()\n",
        "\n",
        "# from transformers.trainer_utils import EvalPrediction, get_last_checkpoint\n",
        "\n",
        "# last_checkpoint = get_last_checkpoint(training_args.output_dir)\n",
        "# trainer.train(resume_from_checkpoint=last_checkpoint)"
      ]
    },
    {
      "cell_type": "code",
      "execution_count": 19,
      "id": "JnPxSw5JLCl5",
      "metadata": {
        "id": "JnPxSw5JLCl5"
      },
      "outputs": [],
      "source": [
        "ADAPTER_MODEL = os.path.join(ROOT_DIR, \"sns_lora_dpo\")\n",
        "trainer.model.save_pretrained(ADAPTER_MODEL)"
      ]
    },
    {
      "cell_type": "code",
      "execution_count": 19,
      "id": "C0WZiM7QG0Ig",
      "metadata": {
        "id": "C0WZiM7QG0Ig"
      },
      "outputs": [],
      "source": []
    }
  ],
  "metadata": {
    "accelerator": "GPU",
    "colab": {
      "gpuType": "A100",
      "provenance": []
    },
    "kernelspec": {
      "display_name": "Python 3",
      "name": "python3"
    },
    "language_info": {
      "codemirror_mode": {
        "name": "ipython",
        "version": 3
      },
      "file_extension": ".py",
      "mimetype": "text/x-python",
      "name": "python",
      "nbconvert_exporter": "python",
      "pygments_lexer": "ipython3",
      "version": "3.9.19"
    },
    "widgets": {
      "application/vnd.jupyter.widget-state+json": {
        "7c74e9a85ba74219b88a50d051d3ca7d": {
          "model_module": "@jupyter-widgets/controls",
          "model_name": "HBoxModel",
          "model_module_version": "1.5.0",
          "state": {
            "_dom_classes": [],
            "_model_module": "@jupyter-widgets/controls",
            "_model_module_version": "1.5.0",
            "_model_name": "HBoxModel",
            "_view_count": null,
            "_view_module": "@jupyter-widgets/controls",
            "_view_module_version": "1.5.0",
            "_view_name": "HBoxView",
            "box_style": "",
            "children": [
              "IPY_MODEL_f5e944683042416fb22d5c9c7de94ba5",
              "IPY_MODEL_08a40d06cc7746f9ab1d79e8a5400f5c",
              "IPY_MODEL_ea189b840ded468f8629a76fbfb36f95"
            ],
            "layout": "IPY_MODEL_2c9056c3cd2143c0adf81916dc9cd264"
          }
        },
        "f5e944683042416fb22d5c9c7de94ba5": {
          "model_module": "@jupyter-widgets/controls",
          "model_name": "HTMLModel",
          "model_module_version": "1.5.0",
          "state": {
            "_dom_classes": [],
            "_model_module": "@jupyter-widgets/controls",
            "_model_module_version": "1.5.0",
            "_model_name": "HTMLModel",
            "_view_count": null,
            "_view_module": "@jupyter-widgets/controls",
            "_view_module_version": "1.5.0",
            "_view_name": "HTMLView",
            "description": "",
            "description_tooltip": null,
            "layout": "IPY_MODEL_072e74b96ed1451c84a3108c8405f8e2",
            "placeholder": "​",
            "style": "IPY_MODEL_2cf839aa3aac4ac09ac9711f1f9f487d",
            "value": "Map: 100%"
          }
        },
        "08a40d06cc7746f9ab1d79e8a5400f5c": {
          "model_module": "@jupyter-widgets/controls",
          "model_name": "FloatProgressModel",
          "model_module_version": "1.5.0",
          "state": {
            "_dom_classes": [],
            "_model_module": "@jupyter-widgets/controls",
            "_model_module_version": "1.5.0",
            "_model_name": "FloatProgressModel",
            "_view_count": null,
            "_view_module": "@jupyter-widgets/controls",
            "_view_module_version": "1.5.0",
            "_view_name": "ProgressView",
            "bar_style": "success",
            "description": "",
            "description_tooltip": null,
            "layout": "IPY_MODEL_492a13f5818341d586aec61fb3836fa9",
            "max": 24318,
            "min": 0,
            "orientation": "horizontal",
            "style": "IPY_MODEL_d8c5039470814a88a555f4ea255bbd54",
            "value": 24318
          }
        },
        "ea189b840ded468f8629a76fbfb36f95": {
          "model_module": "@jupyter-widgets/controls",
          "model_name": "HTMLModel",
          "model_module_version": "1.5.0",
          "state": {
            "_dom_classes": [],
            "_model_module": "@jupyter-widgets/controls",
            "_model_module_version": "1.5.0",
            "_model_name": "HTMLModel",
            "_view_count": null,
            "_view_module": "@jupyter-widgets/controls",
            "_view_module_version": "1.5.0",
            "_view_name": "HTMLView",
            "description": "",
            "description_tooltip": null,
            "layout": "IPY_MODEL_efbdb676127442bd84aa7ea817eb50c4",
            "placeholder": "​",
            "style": "IPY_MODEL_0c7f483605294e8f845b6538164d7a6d",
            "value": " 24318/24318 [00:02&lt;00:00, 11397.71 examples/s]"
          }
        },
        "2c9056c3cd2143c0adf81916dc9cd264": {
          "model_module": "@jupyter-widgets/base",
          "model_name": "LayoutModel",
          "model_module_version": "1.2.0",
          "state": {
            "_model_module": "@jupyter-widgets/base",
            "_model_module_version": "1.2.0",
            "_model_name": "LayoutModel",
            "_view_count": null,
            "_view_module": "@jupyter-widgets/base",
            "_view_module_version": "1.2.0",
            "_view_name": "LayoutView",
            "align_content": null,
            "align_items": null,
            "align_self": null,
            "border": null,
            "bottom": null,
            "display": null,
            "flex": null,
            "flex_flow": null,
            "grid_area": null,
            "grid_auto_columns": null,
            "grid_auto_flow": null,
            "grid_auto_rows": null,
            "grid_column": null,
            "grid_gap": null,
            "grid_row": null,
            "grid_template_areas": null,
            "grid_template_columns": null,
            "grid_template_rows": null,
            "height": null,
            "justify_content": null,
            "justify_items": null,
            "left": null,
            "margin": null,
            "max_height": null,
            "max_width": null,
            "min_height": null,
            "min_width": null,
            "object_fit": null,
            "object_position": null,
            "order": null,
            "overflow": null,
            "overflow_x": null,
            "overflow_y": null,
            "padding": null,
            "right": null,
            "top": null,
            "visibility": null,
            "width": null
          }
        },
        "072e74b96ed1451c84a3108c8405f8e2": {
          "model_module": "@jupyter-widgets/base",
          "model_name": "LayoutModel",
          "model_module_version": "1.2.0",
          "state": {
            "_model_module": "@jupyter-widgets/base",
            "_model_module_version": "1.2.0",
            "_model_name": "LayoutModel",
            "_view_count": null,
            "_view_module": "@jupyter-widgets/base",
            "_view_module_version": "1.2.0",
            "_view_name": "LayoutView",
            "align_content": null,
            "align_items": null,
            "align_self": null,
            "border": null,
            "bottom": null,
            "display": null,
            "flex": null,
            "flex_flow": null,
            "grid_area": null,
            "grid_auto_columns": null,
            "grid_auto_flow": null,
            "grid_auto_rows": null,
            "grid_column": null,
            "grid_gap": null,
            "grid_row": null,
            "grid_template_areas": null,
            "grid_template_columns": null,
            "grid_template_rows": null,
            "height": null,
            "justify_content": null,
            "justify_items": null,
            "left": null,
            "margin": null,
            "max_height": null,
            "max_width": null,
            "min_height": null,
            "min_width": null,
            "object_fit": null,
            "object_position": null,
            "order": null,
            "overflow": null,
            "overflow_x": null,
            "overflow_y": null,
            "padding": null,
            "right": null,
            "top": null,
            "visibility": null,
            "width": null
          }
        },
        "2cf839aa3aac4ac09ac9711f1f9f487d": {
          "model_module": "@jupyter-widgets/controls",
          "model_name": "DescriptionStyleModel",
          "model_module_version": "1.5.0",
          "state": {
            "_model_module": "@jupyter-widgets/controls",
            "_model_module_version": "1.5.0",
            "_model_name": "DescriptionStyleModel",
            "_view_count": null,
            "_view_module": "@jupyter-widgets/base",
            "_view_module_version": "1.2.0",
            "_view_name": "StyleView",
            "description_width": ""
          }
        },
        "492a13f5818341d586aec61fb3836fa9": {
          "model_module": "@jupyter-widgets/base",
          "model_name": "LayoutModel",
          "model_module_version": "1.2.0",
          "state": {
            "_model_module": "@jupyter-widgets/base",
            "_model_module_version": "1.2.0",
            "_model_name": "LayoutModel",
            "_view_count": null,
            "_view_module": "@jupyter-widgets/base",
            "_view_module_version": "1.2.0",
            "_view_name": "LayoutView",
            "align_content": null,
            "align_items": null,
            "align_self": null,
            "border": null,
            "bottom": null,
            "display": null,
            "flex": null,
            "flex_flow": null,
            "grid_area": null,
            "grid_auto_columns": null,
            "grid_auto_flow": null,
            "grid_auto_rows": null,
            "grid_column": null,
            "grid_gap": null,
            "grid_row": null,
            "grid_template_areas": null,
            "grid_template_columns": null,
            "grid_template_rows": null,
            "height": null,
            "justify_content": null,
            "justify_items": null,
            "left": null,
            "margin": null,
            "max_height": null,
            "max_width": null,
            "min_height": null,
            "min_width": null,
            "object_fit": null,
            "object_position": null,
            "order": null,
            "overflow": null,
            "overflow_x": null,
            "overflow_y": null,
            "padding": null,
            "right": null,
            "top": null,
            "visibility": null,
            "width": null
          }
        },
        "d8c5039470814a88a555f4ea255bbd54": {
          "model_module": "@jupyter-widgets/controls",
          "model_name": "ProgressStyleModel",
          "model_module_version": "1.5.0",
          "state": {
            "_model_module": "@jupyter-widgets/controls",
            "_model_module_version": "1.5.0",
            "_model_name": "ProgressStyleModel",
            "_view_count": null,
            "_view_module": "@jupyter-widgets/base",
            "_view_module_version": "1.2.0",
            "_view_name": "StyleView",
            "bar_color": null,
            "description_width": ""
          }
        },
        "efbdb676127442bd84aa7ea817eb50c4": {
          "model_module": "@jupyter-widgets/base",
          "model_name": "LayoutModel",
          "model_module_version": "1.2.0",
          "state": {
            "_model_module": "@jupyter-widgets/base",
            "_model_module_version": "1.2.0",
            "_model_name": "LayoutModel",
            "_view_count": null,
            "_view_module": "@jupyter-widgets/base",
            "_view_module_version": "1.2.0",
            "_view_name": "LayoutView",
            "align_content": null,
            "align_items": null,
            "align_self": null,
            "border": null,
            "bottom": null,
            "display": null,
            "flex": null,
            "flex_flow": null,
            "grid_area": null,
            "grid_auto_columns": null,
            "grid_auto_flow": null,
            "grid_auto_rows": null,
            "grid_column": null,
            "grid_gap": null,
            "grid_row": null,
            "grid_template_areas": null,
            "grid_template_columns": null,
            "grid_template_rows": null,
            "height": null,
            "justify_content": null,
            "justify_items": null,
            "left": null,
            "margin": null,
            "max_height": null,
            "max_width": null,
            "min_height": null,
            "min_width": null,
            "object_fit": null,
            "object_position": null,
            "order": null,
            "overflow": null,
            "overflow_x": null,
            "overflow_y": null,
            "padding": null,
            "right": null,
            "top": null,
            "visibility": null,
            "width": null
          }
        },
        "0c7f483605294e8f845b6538164d7a6d": {
          "model_module": "@jupyter-widgets/controls",
          "model_name": "DescriptionStyleModel",
          "model_module_version": "1.5.0",
          "state": {
            "_model_module": "@jupyter-widgets/controls",
            "_model_module_version": "1.5.0",
            "_model_name": "DescriptionStyleModel",
            "_view_count": null,
            "_view_module": "@jupyter-widgets/base",
            "_view_module_version": "1.2.0",
            "_view_name": "StyleView",
            "description_width": ""
          }
        },
        "bdc5ab34fd8347bc8ce07f13bd2141da": {
          "model_module": "@jupyter-widgets/controls",
          "model_name": "HBoxModel",
          "model_module_version": "1.5.0",
          "state": {
            "_dom_classes": [],
            "_model_module": "@jupyter-widgets/controls",
            "_model_module_version": "1.5.0",
            "_model_name": "HBoxModel",
            "_view_count": null,
            "_view_module": "@jupyter-widgets/controls",
            "_view_module_version": "1.5.0",
            "_view_name": "HBoxView",
            "box_style": "",
            "children": [
              "IPY_MODEL_32437793d75b46a6a0a1e0c6f3800d3a",
              "IPY_MODEL_034db42d8c2549d3ab9ee9e1f833b53a",
              "IPY_MODEL_b1c264110e584d0899d95f32aae43189"
            ],
            "layout": "IPY_MODEL_4fcc9e26000b401789fc3acd6d30bc11"
          }
        },
        "32437793d75b46a6a0a1e0c6f3800d3a": {
          "model_module": "@jupyter-widgets/controls",
          "model_name": "HTMLModel",
          "model_module_version": "1.5.0",
          "state": {
            "_dom_classes": [],
            "_model_module": "@jupyter-widgets/controls",
            "_model_module_version": "1.5.0",
            "_model_name": "HTMLModel",
            "_view_count": null,
            "_view_module": "@jupyter-widgets/controls",
            "_view_module_version": "1.5.0",
            "_view_name": "HTMLView",
            "description": "",
            "description_tooltip": null,
            "layout": "IPY_MODEL_08eabf63b6a14fc2ace011523bd9b9d2",
            "placeholder": "​",
            "style": "IPY_MODEL_cc18ec3cd16449169650d3d8bb493230",
            "value": "Loading checkpoint shards: 100%"
          }
        },
        "034db42d8c2549d3ab9ee9e1f833b53a": {
          "model_module": "@jupyter-widgets/controls",
          "model_name": "FloatProgressModel",
          "model_module_version": "1.5.0",
          "state": {
            "_dom_classes": [],
            "_model_module": "@jupyter-widgets/controls",
            "_model_module_version": "1.5.0",
            "_model_name": "FloatProgressModel",
            "_view_count": null,
            "_view_module": "@jupyter-widgets/controls",
            "_view_module_version": "1.5.0",
            "_view_name": "ProgressView",
            "bar_style": "success",
            "description": "",
            "description_tooltip": null,
            "layout": "IPY_MODEL_12b910f26d3f48f388264c96b348cb4e",
            "max": 2,
            "min": 0,
            "orientation": "horizontal",
            "style": "IPY_MODEL_05f25a0a9e3e49ddbee118c6761268ce",
            "value": 2
          }
        },
        "b1c264110e584d0899d95f32aae43189": {
          "model_module": "@jupyter-widgets/controls",
          "model_name": "HTMLModel",
          "model_module_version": "1.5.0",
          "state": {
            "_dom_classes": [],
            "_model_module": "@jupyter-widgets/controls",
            "_model_module_version": "1.5.0",
            "_model_name": "HTMLModel",
            "_view_count": null,
            "_view_module": "@jupyter-widgets/controls",
            "_view_module_version": "1.5.0",
            "_view_name": "HTMLView",
            "description": "",
            "description_tooltip": null,
            "layout": "IPY_MODEL_56f674d46eec4bc28bd94c43230819e4",
            "placeholder": "​",
            "style": "IPY_MODEL_886611259ef54a02aa779c11131e5ff9",
            "value": " 2/2 [00:05&lt;00:00,  2.21s/it]"
          }
        },
        "4fcc9e26000b401789fc3acd6d30bc11": {
          "model_module": "@jupyter-widgets/base",
          "model_name": "LayoutModel",
          "model_module_version": "1.2.0",
          "state": {
            "_model_module": "@jupyter-widgets/base",
            "_model_module_version": "1.2.0",
            "_model_name": "LayoutModel",
            "_view_count": null,
            "_view_module": "@jupyter-widgets/base",
            "_view_module_version": "1.2.0",
            "_view_name": "LayoutView",
            "align_content": null,
            "align_items": null,
            "align_self": null,
            "border": null,
            "bottom": null,
            "display": null,
            "flex": null,
            "flex_flow": null,
            "grid_area": null,
            "grid_auto_columns": null,
            "grid_auto_flow": null,
            "grid_auto_rows": null,
            "grid_column": null,
            "grid_gap": null,
            "grid_row": null,
            "grid_template_areas": null,
            "grid_template_columns": null,
            "grid_template_rows": null,
            "height": null,
            "justify_content": null,
            "justify_items": null,
            "left": null,
            "margin": null,
            "max_height": null,
            "max_width": null,
            "min_height": null,
            "min_width": null,
            "object_fit": null,
            "object_position": null,
            "order": null,
            "overflow": null,
            "overflow_x": null,
            "overflow_y": null,
            "padding": null,
            "right": null,
            "top": null,
            "visibility": null,
            "width": null
          }
        },
        "08eabf63b6a14fc2ace011523bd9b9d2": {
          "model_module": "@jupyter-widgets/base",
          "model_name": "LayoutModel",
          "model_module_version": "1.2.0",
          "state": {
            "_model_module": "@jupyter-widgets/base",
            "_model_module_version": "1.2.0",
            "_model_name": "LayoutModel",
            "_view_count": null,
            "_view_module": "@jupyter-widgets/base",
            "_view_module_version": "1.2.0",
            "_view_name": "LayoutView",
            "align_content": null,
            "align_items": null,
            "align_self": null,
            "border": null,
            "bottom": null,
            "display": null,
            "flex": null,
            "flex_flow": null,
            "grid_area": null,
            "grid_auto_columns": null,
            "grid_auto_flow": null,
            "grid_auto_rows": null,
            "grid_column": null,
            "grid_gap": null,
            "grid_row": null,
            "grid_template_areas": null,
            "grid_template_columns": null,
            "grid_template_rows": null,
            "height": null,
            "justify_content": null,
            "justify_items": null,
            "left": null,
            "margin": null,
            "max_height": null,
            "max_width": null,
            "min_height": null,
            "min_width": null,
            "object_fit": null,
            "object_position": null,
            "order": null,
            "overflow": null,
            "overflow_x": null,
            "overflow_y": null,
            "padding": null,
            "right": null,
            "top": null,
            "visibility": null,
            "width": null
          }
        },
        "cc18ec3cd16449169650d3d8bb493230": {
          "model_module": "@jupyter-widgets/controls",
          "model_name": "DescriptionStyleModel",
          "model_module_version": "1.5.0",
          "state": {
            "_model_module": "@jupyter-widgets/controls",
            "_model_module_version": "1.5.0",
            "_model_name": "DescriptionStyleModel",
            "_view_count": null,
            "_view_module": "@jupyter-widgets/base",
            "_view_module_version": "1.2.0",
            "_view_name": "StyleView",
            "description_width": ""
          }
        },
        "12b910f26d3f48f388264c96b348cb4e": {
          "model_module": "@jupyter-widgets/base",
          "model_name": "LayoutModel",
          "model_module_version": "1.2.0",
          "state": {
            "_model_module": "@jupyter-widgets/base",
            "_model_module_version": "1.2.0",
            "_model_name": "LayoutModel",
            "_view_count": null,
            "_view_module": "@jupyter-widgets/base",
            "_view_module_version": "1.2.0",
            "_view_name": "LayoutView",
            "align_content": null,
            "align_items": null,
            "align_self": null,
            "border": null,
            "bottom": null,
            "display": null,
            "flex": null,
            "flex_flow": null,
            "grid_area": null,
            "grid_auto_columns": null,
            "grid_auto_flow": null,
            "grid_auto_rows": null,
            "grid_column": null,
            "grid_gap": null,
            "grid_row": null,
            "grid_template_areas": null,
            "grid_template_columns": null,
            "grid_template_rows": null,
            "height": null,
            "justify_content": null,
            "justify_items": null,
            "left": null,
            "margin": null,
            "max_height": null,
            "max_width": null,
            "min_height": null,
            "min_width": null,
            "object_fit": null,
            "object_position": null,
            "order": null,
            "overflow": null,
            "overflow_x": null,
            "overflow_y": null,
            "padding": null,
            "right": null,
            "top": null,
            "visibility": null,
            "width": null
          }
        },
        "05f25a0a9e3e49ddbee118c6761268ce": {
          "model_module": "@jupyter-widgets/controls",
          "model_name": "ProgressStyleModel",
          "model_module_version": "1.5.0",
          "state": {
            "_model_module": "@jupyter-widgets/controls",
            "_model_module_version": "1.5.0",
            "_model_name": "ProgressStyleModel",
            "_view_count": null,
            "_view_module": "@jupyter-widgets/base",
            "_view_module_version": "1.2.0",
            "_view_name": "StyleView",
            "bar_color": null,
            "description_width": ""
          }
        },
        "56f674d46eec4bc28bd94c43230819e4": {
          "model_module": "@jupyter-widgets/base",
          "model_name": "LayoutModel",
          "model_module_version": "1.2.0",
          "state": {
            "_model_module": "@jupyter-widgets/base",
            "_model_module_version": "1.2.0",
            "_model_name": "LayoutModel",
            "_view_count": null,
            "_view_module": "@jupyter-widgets/base",
            "_view_module_version": "1.2.0",
            "_view_name": "LayoutView",
            "align_content": null,
            "align_items": null,
            "align_self": null,
            "border": null,
            "bottom": null,
            "display": null,
            "flex": null,
            "flex_flow": null,
            "grid_area": null,
            "grid_auto_columns": null,
            "grid_auto_flow": null,
            "grid_auto_rows": null,
            "grid_column": null,
            "grid_gap": null,
            "grid_row": null,
            "grid_template_areas": null,
            "grid_template_columns": null,
            "grid_template_rows": null,
            "height": null,
            "justify_content": null,
            "justify_items": null,
            "left": null,
            "margin": null,
            "max_height": null,
            "max_width": null,
            "min_height": null,
            "min_width": null,
            "object_fit": null,
            "object_position": null,
            "order": null,
            "overflow": null,
            "overflow_x": null,
            "overflow_y": null,
            "padding": null,
            "right": null,
            "top": null,
            "visibility": null,
            "width": null
          }
        },
        "886611259ef54a02aa779c11131e5ff9": {
          "model_module": "@jupyter-widgets/controls",
          "model_name": "DescriptionStyleModel",
          "model_module_version": "1.5.0",
          "state": {
            "_model_module": "@jupyter-widgets/controls",
            "_model_module_version": "1.5.0",
            "_model_name": "DescriptionStyleModel",
            "_view_count": null,
            "_view_module": "@jupyter-widgets/base",
            "_view_module_version": "1.2.0",
            "_view_name": "StyleView",
            "description_width": ""
          }
        },
        "b76ff31d8c6e443bb356a949a6d108ab": {
          "model_module": "@jupyter-widgets/controls",
          "model_name": "HBoxModel",
          "model_module_version": "1.5.0",
          "state": {
            "_dom_classes": [],
            "_model_module": "@jupyter-widgets/controls",
            "_model_module_version": "1.5.0",
            "_model_name": "HBoxModel",
            "_view_count": null,
            "_view_module": "@jupyter-widgets/controls",
            "_view_module_version": "1.5.0",
            "_view_name": "HBoxView",
            "box_style": "",
            "children": [
              "IPY_MODEL_1f3380c976634cec945de02206506797",
              "IPY_MODEL_bc7f1834c1d7404ebbc24faa120cae6d",
              "IPY_MODEL_b913482f37414665b4e37d24007de290"
            ],
            "layout": "IPY_MODEL_e7f25a561083495a860370023ef3d31c"
          }
        },
        "1f3380c976634cec945de02206506797": {
          "model_module": "@jupyter-widgets/controls",
          "model_name": "HTMLModel",
          "model_module_version": "1.5.0",
          "state": {
            "_dom_classes": [],
            "_model_module": "@jupyter-widgets/controls",
            "_model_module_version": "1.5.0",
            "_model_name": "HTMLModel",
            "_view_count": null,
            "_view_module": "@jupyter-widgets/controls",
            "_view_module_version": "1.5.0",
            "_view_name": "HTMLView",
            "description": "",
            "description_tooltip": null,
            "layout": "IPY_MODEL_672ae33cbe334a778f3d924e7ae4b341",
            "placeholder": "​",
            "style": "IPY_MODEL_574a5f30a4f64bb78d6d20829a95644c",
            "value": "Tokenizing train dataset: 100%"
          }
        },
        "bc7f1834c1d7404ebbc24faa120cae6d": {
          "model_module": "@jupyter-widgets/controls",
          "model_name": "FloatProgressModel",
          "model_module_version": "1.5.0",
          "state": {
            "_dom_classes": [],
            "_model_module": "@jupyter-widgets/controls",
            "_model_module_version": "1.5.0",
            "_model_name": "FloatProgressModel",
            "_view_count": null,
            "_view_module": "@jupyter-widgets/controls",
            "_view_module_version": "1.5.0",
            "_view_name": "ProgressView",
            "bar_style": "success",
            "description": "",
            "description_tooltip": null,
            "layout": "IPY_MODEL_8826b2193bb8408d981a5441990270ab",
            "max": 21886,
            "min": 0,
            "orientation": "horizontal",
            "style": "IPY_MODEL_5b66309d740a40b580b58a7ce997a9b2",
            "value": 21886
          }
        },
        "b913482f37414665b4e37d24007de290": {
          "model_module": "@jupyter-widgets/controls",
          "model_name": "HTMLModel",
          "model_module_version": "1.5.0",
          "state": {
            "_dom_classes": [],
            "_model_module": "@jupyter-widgets/controls",
            "_model_module_version": "1.5.0",
            "_model_name": "HTMLModel",
            "_view_count": null,
            "_view_module": "@jupyter-widgets/controls",
            "_view_module_version": "1.5.0",
            "_view_name": "HTMLView",
            "description": "",
            "description_tooltip": null,
            "layout": "IPY_MODEL_ea65985ef34544018a6428ada53b61d5",
            "placeholder": "​",
            "style": "IPY_MODEL_3c56b59b81fc4f01b228d0cbed6fc5b7",
            "value": " 21886/21886 [00:34&lt;00:00, 612.75 examples/s]"
          }
        },
        "e7f25a561083495a860370023ef3d31c": {
          "model_module": "@jupyter-widgets/base",
          "model_name": "LayoutModel",
          "model_module_version": "1.2.0",
          "state": {
            "_model_module": "@jupyter-widgets/base",
            "_model_module_version": "1.2.0",
            "_model_name": "LayoutModel",
            "_view_count": null,
            "_view_module": "@jupyter-widgets/base",
            "_view_module_version": "1.2.0",
            "_view_name": "LayoutView",
            "align_content": null,
            "align_items": null,
            "align_self": null,
            "border": null,
            "bottom": null,
            "display": null,
            "flex": null,
            "flex_flow": null,
            "grid_area": null,
            "grid_auto_columns": null,
            "grid_auto_flow": null,
            "grid_auto_rows": null,
            "grid_column": null,
            "grid_gap": null,
            "grid_row": null,
            "grid_template_areas": null,
            "grid_template_columns": null,
            "grid_template_rows": null,
            "height": null,
            "justify_content": null,
            "justify_items": null,
            "left": null,
            "margin": null,
            "max_height": null,
            "max_width": null,
            "min_height": null,
            "min_width": null,
            "object_fit": null,
            "object_position": null,
            "order": null,
            "overflow": null,
            "overflow_x": null,
            "overflow_y": null,
            "padding": null,
            "right": null,
            "top": null,
            "visibility": null,
            "width": null
          }
        },
        "672ae33cbe334a778f3d924e7ae4b341": {
          "model_module": "@jupyter-widgets/base",
          "model_name": "LayoutModel",
          "model_module_version": "1.2.0",
          "state": {
            "_model_module": "@jupyter-widgets/base",
            "_model_module_version": "1.2.0",
            "_model_name": "LayoutModel",
            "_view_count": null,
            "_view_module": "@jupyter-widgets/base",
            "_view_module_version": "1.2.0",
            "_view_name": "LayoutView",
            "align_content": null,
            "align_items": null,
            "align_self": null,
            "border": null,
            "bottom": null,
            "display": null,
            "flex": null,
            "flex_flow": null,
            "grid_area": null,
            "grid_auto_columns": null,
            "grid_auto_flow": null,
            "grid_auto_rows": null,
            "grid_column": null,
            "grid_gap": null,
            "grid_row": null,
            "grid_template_areas": null,
            "grid_template_columns": null,
            "grid_template_rows": null,
            "height": null,
            "justify_content": null,
            "justify_items": null,
            "left": null,
            "margin": null,
            "max_height": null,
            "max_width": null,
            "min_height": null,
            "min_width": null,
            "object_fit": null,
            "object_position": null,
            "order": null,
            "overflow": null,
            "overflow_x": null,
            "overflow_y": null,
            "padding": null,
            "right": null,
            "top": null,
            "visibility": null,
            "width": null
          }
        },
        "574a5f30a4f64bb78d6d20829a95644c": {
          "model_module": "@jupyter-widgets/controls",
          "model_name": "DescriptionStyleModel",
          "model_module_version": "1.5.0",
          "state": {
            "_model_module": "@jupyter-widgets/controls",
            "_model_module_version": "1.5.0",
            "_model_name": "DescriptionStyleModel",
            "_view_count": null,
            "_view_module": "@jupyter-widgets/base",
            "_view_module_version": "1.2.0",
            "_view_name": "StyleView",
            "description_width": ""
          }
        },
        "8826b2193bb8408d981a5441990270ab": {
          "model_module": "@jupyter-widgets/base",
          "model_name": "LayoutModel",
          "model_module_version": "1.2.0",
          "state": {
            "_model_module": "@jupyter-widgets/base",
            "_model_module_version": "1.2.0",
            "_model_name": "LayoutModel",
            "_view_count": null,
            "_view_module": "@jupyter-widgets/base",
            "_view_module_version": "1.2.0",
            "_view_name": "LayoutView",
            "align_content": null,
            "align_items": null,
            "align_self": null,
            "border": null,
            "bottom": null,
            "display": null,
            "flex": null,
            "flex_flow": null,
            "grid_area": null,
            "grid_auto_columns": null,
            "grid_auto_flow": null,
            "grid_auto_rows": null,
            "grid_column": null,
            "grid_gap": null,
            "grid_row": null,
            "grid_template_areas": null,
            "grid_template_columns": null,
            "grid_template_rows": null,
            "height": null,
            "justify_content": null,
            "justify_items": null,
            "left": null,
            "margin": null,
            "max_height": null,
            "max_width": null,
            "min_height": null,
            "min_width": null,
            "object_fit": null,
            "object_position": null,
            "order": null,
            "overflow": null,
            "overflow_x": null,
            "overflow_y": null,
            "padding": null,
            "right": null,
            "top": null,
            "visibility": null,
            "width": null
          }
        },
        "5b66309d740a40b580b58a7ce997a9b2": {
          "model_module": "@jupyter-widgets/controls",
          "model_name": "ProgressStyleModel",
          "model_module_version": "1.5.0",
          "state": {
            "_model_module": "@jupyter-widgets/controls",
            "_model_module_version": "1.5.0",
            "_model_name": "ProgressStyleModel",
            "_view_count": null,
            "_view_module": "@jupyter-widgets/base",
            "_view_module_version": "1.2.0",
            "_view_name": "StyleView",
            "bar_color": null,
            "description_width": ""
          }
        },
        "ea65985ef34544018a6428ada53b61d5": {
          "model_module": "@jupyter-widgets/base",
          "model_name": "LayoutModel",
          "model_module_version": "1.2.0",
          "state": {
            "_model_module": "@jupyter-widgets/base",
            "_model_module_version": "1.2.0",
            "_model_name": "LayoutModel",
            "_view_count": null,
            "_view_module": "@jupyter-widgets/base",
            "_view_module_version": "1.2.0",
            "_view_name": "LayoutView",
            "align_content": null,
            "align_items": null,
            "align_self": null,
            "border": null,
            "bottom": null,
            "display": null,
            "flex": null,
            "flex_flow": null,
            "grid_area": null,
            "grid_auto_columns": null,
            "grid_auto_flow": null,
            "grid_auto_rows": null,
            "grid_column": null,
            "grid_gap": null,
            "grid_row": null,
            "grid_template_areas": null,
            "grid_template_columns": null,
            "grid_template_rows": null,
            "height": null,
            "justify_content": null,
            "justify_items": null,
            "left": null,
            "margin": null,
            "max_height": null,
            "max_width": null,
            "min_height": null,
            "min_width": null,
            "object_fit": null,
            "object_position": null,
            "order": null,
            "overflow": null,
            "overflow_x": null,
            "overflow_y": null,
            "padding": null,
            "right": null,
            "top": null,
            "visibility": null,
            "width": null
          }
        },
        "3c56b59b81fc4f01b228d0cbed6fc5b7": {
          "model_module": "@jupyter-widgets/controls",
          "model_name": "DescriptionStyleModel",
          "model_module_version": "1.5.0",
          "state": {
            "_model_module": "@jupyter-widgets/controls",
            "_model_module_version": "1.5.0",
            "_model_name": "DescriptionStyleModel",
            "_view_count": null,
            "_view_module": "@jupyter-widgets/base",
            "_view_module_version": "1.2.0",
            "_view_name": "StyleView",
            "description_width": ""
          }
        },
        "8fe208d7002943cf8c7f39a10e127a74": {
          "model_module": "@jupyter-widgets/controls",
          "model_name": "HBoxModel",
          "model_module_version": "1.5.0",
          "state": {
            "_dom_classes": [],
            "_model_module": "@jupyter-widgets/controls",
            "_model_module_version": "1.5.0",
            "_model_name": "HBoxModel",
            "_view_count": null,
            "_view_module": "@jupyter-widgets/controls",
            "_view_module_version": "1.5.0",
            "_view_name": "HBoxView",
            "box_style": "",
            "children": [
              "IPY_MODEL_a589b355c7de4cb7b5277c97945e3ad9",
              "IPY_MODEL_3b9a0bef1d024acc98aa04ef34235ca2",
              "IPY_MODEL_28565d9ee25541f7a9068a40435c14ca"
            ],
            "layout": "IPY_MODEL_d3eb9942693a42778b7c8c2e6df65928"
          }
        },
        "a589b355c7de4cb7b5277c97945e3ad9": {
          "model_module": "@jupyter-widgets/controls",
          "model_name": "HTMLModel",
          "model_module_version": "1.5.0",
          "state": {
            "_dom_classes": [],
            "_model_module": "@jupyter-widgets/controls",
            "_model_module_version": "1.5.0",
            "_model_name": "HTMLModel",
            "_view_count": null,
            "_view_module": "@jupyter-widgets/controls",
            "_view_module_version": "1.5.0",
            "_view_name": "HTMLView",
            "description": "",
            "description_tooltip": null,
            "layout": "IPY_MODEL_7f1a86dd84244a48b07fed7213590ba7",
            "placeholder": "​",
            "style": "IPY_MODEL_9160c1cbe73e425b89dd51b358ad8eb3",
            "value": "Tokenizing eval dataset: 100%"
          }
        },
        "3b9a0bef1d024acc98aa04ef34235ca2": {
          "model_module": "@jupyter-widgets/controls",
          "model_name": "FloatProgressModel",
          "model_module_version": "1.5.0",
          "state": {
            "_dom_classes": [],
            "_model_module": "@jupyter-widgets/controls",
            "_model_module_version": "1.5.0",
            "_model_name": "FloatProgressModel",
            "_view_count": null,
            "_view_module": "@jupyter-widgets/controls",
            "_view_module_version": "1.5.0",
            "_view_name": "ProgressView",
            "bar_style": "success",
            "description": "",
            "description_tooltip": null,
            "layout": "IPY_MODEL_fe5e5ac3c0b7445f8ee9c7807a96c3d3",
            "max": 2432,
            "min": 0,
            "orientation": "horizontal",
            "style": "IPY_MODEL_1f5a414d9f8c48609b3ab171ee0f0da6",
            "value": 2432
          }
        },
        "28565d9ee25541f7a9068a40435c14ca": {
          "model_module": "@jupyter-widgets/controls",
          "model_name": "HTMLModel",
          "model_module_version": "1.5.0",
          "state": {
            "_dom_classes": [],
            "_model_module": "@jupyter-widgets/controls",
            "_model_module_version": "1.5.0",
            "_model_name": "HTMLModel",
            "_view_count": null,
            "_view_module": "@jupyter-widgets/controls",
            "_view_module_version": "1.5.0",
            "_view_name": "HTMLView",
            "description": "",
            "description_tooltip": null,
            "layout": "IPY_MODEL_d45620fbd80447349dbc16d14f782859",
            "placeholder": "​",
            "style": "IPY_MODEL_5396b07cee2742a6926ee0a769546186",
            "value": " 2432/2432 [00:03&lt;00:00, 634.09 examples/s]"
          }
        },
        "d3eb9942693a42778b7c8c2e6df65928": {
          "model_module": "@jupyter-widgets/base",
          "model_name": "LayoutModel",
          "model_module_version": "1.2.0",
          "state": {
            "_model_module": "@jupyter-widgets/base",
            "_model_module_version": "1.2.0",
            "_model_name": "LayoutModel",
            "_view_count": null,
            "_view_module": "@jupyter-widgets/base",
            "_view_module_version": "1.2.0",
            "_view_name": "LayoutView",
            "align_content": null,
            "align_items": null,
            "align_self": null,
            "border": null,
            "bottom": null,
            "display": null,
            "flex": null,
            "flex_flow": null,
            "grid_area": null,
            "grid_auto_columns": null,
            "grid_auto_flow": null,
            "grid_auto_rows": null,
            "grid_column": null,
            "grid_gap": null,
            "grid_row": null,
            "grid_template_areas": null,
            "grid_template_columns": null,
            "grid_template_rows": null,
            "height": null,
            "justify_content": null,
            "justify_items": null,
            "left": null,
            "margin": null,
            "max_height": null,
            "max_width": null,
            "min_height": null,
            "min_width": null,
            "object_fit": null,
            "object_position": null,
            "order": null,
            "overflow": null,
            "overflow_x": null,
            "overflow_y": null,
            "padding": null,
            "right": null,
            "top": null,
            "visibility": null,
            "width": null
          }
        },
        "7f1a86dd84244a48b07fed7213590ba7": {
          "model_module": "@jupyter-widgets/base",
          "model_name": "LayoutModel",
          "model_module_version": "1.2.0",
          "state": {
            "_model_module": "@jupyter-widgets/base",
            "_model_module_version": "1.2.0",
            "_model_name": "LayoutModel",
            "_view_count": null,
            "_view_module": "@jupyter-widgets/base",
            "_view_module_version": "1.2.0",
            "_view_name": "LayoutView",
            "align_content": null,
            "align_items": null,
            "align_self": null,
            "border": null,
            "bottom": null,
            "display": null,
            "flex": null,
            "flex_flow": null,
            "grid_area": null,
            "grid_auto_columns": null,
            "grid_auto_flow": null,
            "grid_auto_rows": null,
            "grid_column": null,
            "grid_gap": null,
            "grid_row": null,
            "grid_template_areas": null,
            "grid_template_columns": null,
            "grid_template_rows": null,
            "height": null,
            "justify_content": null,
            "justify_items": null,
            "left": null,
            "margin": null,
            "max_height": null,
            "max_width": null,
            "min_height": null,
            "min_width": null,
            "object_fit": null,
            "object_position": null,
            "order": null,
            "overflow": null,
            "overflow_x": null,
            "overflow_y": null,
            "padding": null,
            "right": null,
            "top": null,
            "visibility": null,
            "width": null
          }
        },
        "9160c1cbe73e425b89dd51b358ad8eb3": {
          "model_module": "@jupyter-widgets/controls",
          "model_name": "DescriptionStyleModel",
          "model_module_version": "1.5.0",
          "state": {
            "_model_module": "@jupyter-widgets/controls",
            "_model_module_version": "1.5.0",
            "_model_name": "DescriptionStyleModel",
            "_view_count": null,
            "_view_module": "@jupyter-widgets/base",
            "_view_module_version": "1.2.0",
            "_view_name": "StyleView",
            "description_width": ""
          }
        },
        "fe5e5ac3c0b7445f8ee9c7807a96c3d3": {
          "model_module": "@jupyter-widgets/base",
          "model_name": "LayoutModel",
          "model_module_version": "1.2.0",
          "state": {
            "_model_module": "@jupyter-widgets/base",
            "_model_module_version": "1.2.0",
            "_model_name": "LayoutModel",
            "_view_count": null,
            "_view_module": "@jupyter-widgets/base",
            "_view_module_version": "1.2.0",
            "_view_name": "LayoutView",
            "align_content": null,
            "align_items": null,
            "align_self": null,
            "border": null,
            "bottom": null,
            "display": null,
            "flex": null,
            "flex_flow": null,
            "grid_area": null,
            "grid_auto_columns": null,
            "grid_auto_flow": null,
            "grid_auto_rows": null,
            "grid_column": null,
            "grid_gap": null,
            "grid_row": null,
            "grid_template_areas": null,
            "grid_template_columns": null,
            "grid_template_rows": null,
            "height": null,
            "justify_content": null,
            "justify_items": null,
            "left": null,
            "margin": null,
            "max_height": null,
            "max_width": null,
            "min_height": null,
            "min_width": null,
            "object_fit": null,
            "object_position": null,
            "order": null,
            "overflow": null,
            "overflow_x": null,
            "overflow_y": null,
            "padding": null,
            "right": null,
            "top": null,
            "visibility": null,
            "width": null
          }
        },
        "1f5a414d9f8c48609b3ab171ee0f0da6": {
          "model_module": "@jupyter-widgets/controls",
          "model_name": "ProgressStyleModel",
          "model_module_version": "1.5.0",
          "state": {
            "_model_module": "@jupyter-widgets/controls",
            "_model_module_version": "1.5.0",
            "_model_name": "ProgressStyleModel",
            "_view_count": null,
            "_view_module": "@jupyter-widgets/base",
            "_view_module_version": "1.2.0",
            "_view_name": "StyleView",
            "bar_color": null,
            "description_width": ""
          }
        },
        "d45620fbd80447349dbc16d14f782859": {
          "model_module": "@jupyter-widgets/base",
          "model_name": "LayoutModel",
          "model_module_version": "1.2.0",
          "state": {
            "_model_module": "@jupyter-widgets/base",
            "_model_module_version": "1.2.0",
            "_model_name": "LayoutModel",
            "_view_count": null,
            "_view_module": "@jupyter-widgets/base",
            "_view_module_version": "1.2.0",
            "_view_name": "LayoutView",
            "align_content": null,
            "align_items": null,
            "align_self": null,
            "border": null,
            "bottom": null,
            "display": null,
            "flex": null,
            "flex_flow": null,
            "grid_area": null,
            "grid_auto_columns": null,
            "grid_auto_flow": null,
            "grid_auto_rows": null,
            "grid_column": null,
            "grid_gap": null,
            "grid_row": null,
            "grid_template_areas": null,
            "grid_template_columns": null,
            "grid_template_rows": null,
            "height": null,
            "justify_content": null,
            "justify_items": null,
            "left": null,
            "margin": null,
            "max_height": null,
            "max_width": null,
            "min_height": null,
            "min_width": null,
            "object_fit": null,
            "object_position": null,
            "order": null,
            "overflow": null,
            "overflow_x": null,
            "overflow_y": null,
            "padding": null,
            "right": null,
            "top": null,
            "visibility": null,
            "width": null
          }
        },
        "5396b07cee2742a6926ee0a769546186": {
          "model_module": "@jupyter-widgets/controls",
          "model_name": "DescriptionStyleModel",
          "model_module_version": "1.5.0",
          "state": {
            "_model_module": "@jupyter-widgets/controls",
            "_model_module_version": "1.5.0",
            "_model_name": "DescriptionStyleModel",
            "_view_count": null,
            "_view_module": "@jupyter-widgets/base",
            "_view_module_version": "1.2.0",
            "_view_name": "StyleView",
            "description_width": ""
          }
        }
      }
    }
  },
  "nbformat": 4,
  "nbformat_minor": 5
}